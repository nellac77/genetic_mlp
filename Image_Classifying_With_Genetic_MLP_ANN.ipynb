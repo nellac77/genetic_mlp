{
 "cells": [
  {
   "cell_type": "markdown",
   "metadata": {},
   "source": [
    "# Fully Connected MLP ANN Powered By Simple Genetic Algorithm"
   ]
  },
  {
   "cell_type": "markdown",
   "metadata": {},
   "source": [
    "A co-worker dropped aneat article the other day, and it brought me back to the good ol' days in Evolutionary Computation. Back when Steven-1 sat by my side and we laughed, learned, and did stuff to keep us awake. Let's implement it and see where we land after a trip down memory lane."
   ]
  },
  {
   "cell_type": "markdown",
   "metadata": {},
   "source": [
    "## Genetic Agorithm Basic Flow\n",
    "\n",
    "1. Start with a random population and score them all with a single, or more, fitness functions.\n",
    "2. Select *n* best performers and *m* number of randomly selected *not best performers* (mitigate local max trap), and kill the rest.\n",
    "3. Breed the best and bring this next generation back up to the original population size with new children.\n",
    "4. Mutate some percentage of the next generation with some scheme (check the old class file for some neat schemes from Dr. Wainright).\n",
    "5. Rinse and repeat until stop condition is achieved."
   ]
  },
  {
   "cell_type": "markdown",
   "metadata": {},
   "source": [
    "### Applying this to the ANN\n",
    "\n",
    "As per the article, we will perform the image classifying with a fully connected MLP ANN. The ANN will have the following properties adjusted by the genetic algorithm:\n",
    "\n",
    "+ number of layers\n",
    "+ number of neurons per layer\n",
    "+ dense layer activation function\n",
    "+ network optimizer\n",
    "\n",
    "The steps to employing the gentic algorithm with this network are as follows:\n",
    "\n",
    "1. Initialize *N* random networks to create our population.\n",
    "2. Score each network. This takes some time: We have to train the weights of each network and then see how well it performs at classifying the test set. Since this will be an image classification task, we’ll use classification accuracy as our fitness function.\n",
    "3. Sort all the networks in our population by score (accuracy). We’ll keep some percentage of the top networks to become part of the next generation and to breed children.\n",
    "4. Rrandomly keep a few of the non-top networks. This helps find potentially lucky combinations between worse-performers and top performers, and also helps keep us from getting stuck in a local maximum.\n",
    "5. Now that we’ve decided which networks to keep, we randomly mutate some of the parameters on some of the networks.\n",
    "6. Here comes the fun part: Let’s say we started with a population of 20 networks, we kept the top 25% (5 nets), randomly kept 3 more loser networks, and mutated a few of them. We let the other 12 networks die. In an effort to keep our population at 20 networks, we need to fill 12 open spots. It’s time to breed!\n",
    "\n",
    "Not my words... but, better than my own."
   ]
  },
  {
   "cell_type": "markdown",
   "metadata": {},
   "source": [
    "## Defining the Functions\n",
    "\n",
    "We'll start off with making some functions to help us get this wagon train rolling."
   ]
  },
  {
   "cell_type": "markdown",
   "metadata": {},
   "source": [
    "Create the population, seeding it with a number of networks with random settings."
   ]
  },
  {
   "cell_type": "code",
   "execution_count": 1,
   "metadata": {},
   "outputs": [],
   "source": [
    "def create_population(self, count):\n",
    "    \"\"\"Create a population of random networks.\n",
    "    Args:\n",
    "        count (int): Number of networks to generate, aka the\n",
    "            size of the population\n",
    "    \"\"\"\n",
    "    pop = []\n",
    "    for _ in range(0, count):\n",
    "        # Create a random network.\n",
    "        network = Network(self.nn_param_choices)\n",
    "        network.create_random()\n",
    "\n",
    "        # Add the network to our population.\n",
    "        pop.append(network)\n",
    "\n",
    "    return pop"
   ]
  },
  {
   "cell_type": "markdown",
   "metadata": {},
   "source": [
    "Breed the children of the best performing parents, differing each generation. The method employed here is randomly chosen parameters from mother and father to be passed to the child."
   ]
  },
  {
   "cell_type": "code",
   "execution_count": 2,
   "metadata": {},
   "outputs": [],
   "source": [
    "def breed(self, mother, father):\n",
    "    \"\"\"Make two children as parts of their parents.\n",
    "    Args:\n",
    "        mother (dict): Network parameters\n",
    "        father (dict): Network parameters\n",
    "    \"\"\"\n",
    "    children = []\n",
    "    for _ in range(2):\n",
    "\n",
    "        child = {}\n",
    "\n",
    "        # Loop through the parameters and pick params for the kid.\n",
    "        for param in self.nn_param_choices:\n",
    "            child[param] = random.choice(\n",
    "                [mother.network[param], father.network[param]]\n",
    "            )\n",
    "\n",
    "        # Now create a network object.\n",
    "        network = Network(self.nn_param_choices)\n",
    "        network.create_set(child)\n",
    "\n",
    "        children.append(network)\n",
    "        \n",
    "        return children"
   ]
  },
  {
   "cell_type": "markdown",
   "metadata": {},
   "source": [
    "Mutate using a random parameter selection to be mjutated and randomly change it. Again, there are countless number of mutation schemes, but this is what was used in the article."
   ]
  },
  {
   "cell_type": "code",
   "execution_count": 3,
   "metadata": {},
   "outputs": [],
   "source": [
    "def mutate(self, network):\n",
    "    \"\"\"Randomly mutate one part of the network.\n",
    "    Args:\n",
    "        network (dict): The network parameters to mutate\n",
    "    \"\"\"\n",
    "    # Choose a random key.\n",
    "    mutation = random.choice(list(self.nn_param_choices.keys()))\n",
    "\n",
    "    # Mutate one of the params.\n",
    "    network.network[mutation] = random.choice(self.nn_param_choices[mutation])\n",
    "\n",
    "    return network"
   ]
  },
  {
   "cell_type": "markdown",
   "metadata": {},
   "source": [
    "And now the beefcake: Evolve the population by a single generation. Run this for as many generations you want."
   ]
  },
  {
   "cell_type": "code",
   "execution_count": 4,
   "metadata": {},
   "outputs": [],
   "source": [
    "def evolve(self, pop):\n",
    "    \"\"\"Evolve a population of networks.\n",
    "    Args:\n",
    "        pop (list): A list of network parameters\n",
    "    \"\"\"\n",
    "    # Get scores for each network.\n",
    "    graded = [(self.fitness(network), network) for network in pop]\n",
    "\n",
    "    # Sort on the scores.\n",
    "    graded = [x[1] for x in sorted(graded, key=lambda x: x[0], reverse=True)]\n",
    "\n",
    "    # Get the number we want to keep for the next gen.\n",
    "    retain_length = int(len(graded)*self.retain)\n",
    "\n",
    "    # The parents are every network we want to keep.\n",
    "    parents = graded[:retain_length]\n",
    "\n",
    "    # For those we aren't keeping, randomly keep some anyway.\n",
    "    for individual in graded[retain_length:]:\n",
    "        if self.random_select > random.random():\n",
    "            parents.append(individual)\n",
    "\n",
    "    # Randomly mutate some of the networks we're keeping.\n",
    "    for individual in parents:\n",
    "        if self.mutate_chance > random.random():\n",
    "            individual = self.mutate(individual)\n",
    "\n",
    "    # Now find out how many spots we have left to fill.\n",
    "    parents_length = len(parents)\n",
    "    desired_length = len(pop) - parents_length\n",
    "    children = []\n",
    "\n",
    "    # Add children, which are bred from two remaining networks.\n",
    "    while len(children) < desired_length:\n",
    "\n",
    "        # Get a random mom and dad.\n",
    "        male = random.randint(0, parents_length-1)\n",
    "        female = random.randint(0, parents_length-1)\n",
    "\n",
    "        # Assuming they aren't the same network...\n",
    "        if male != female:\n",
    "            male = parents[male]\n",
    "            female = parents[female]\n",
    "\n",
    "            # Breed them.\n",
    "            babies = self.breed(male, female)\n",
    "\n",
    "            # Add the children one at a time.\n",
    "            for baby in babies:\n",
    "                # Don't grow larger than desired length.\n",
    "                if len(children) < desired_length:\n",
    "                    children.append(baby)\n",
    "\n",
    "    parents.extend(children)\n",
    "\n",
    "    return parents"
   ]
  },
  {
   "cell_type": "markdown",
   "metadata": {},
   "source": [
    "Slap this baby togther and run it!"
   ]
  }
 ],
 "metadata": {
  "kernelspec": {
   "display_name": "Python 3",
   "language": "python",
   "name": "python3"
  },
  "language_info": {
   "codemirror_mode": {
    "name": "ipython",
    "version": 3
   },
   "file_extension": ".py",
   "mimetype": "text/x-python",
   "name": "python",
   "nbconvert_exporter": "python",
   "pygments_lexer": "ipython3",
   "version": "3.5.5"
  }
 },
 "nbformat": 4,
 "nbformat_minor": 2
}
